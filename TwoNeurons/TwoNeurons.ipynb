{
 "cells": [
  {
   "cell_type": "markdown",
   "metadata": {},
   "source": [
    "# Two Neurons network\n",
    "### NIERDING Axel 08/05/22\n",
    "### From Guillaume Saint-Cirgue formation on deep learning"
   ]
  },
  {
   "cell_type": "code",
   "execution_count": 1,
   "metadata": {},
   "outputs": [],
   "source": [
    "\n",
    "import numpy as np #Numpy provides multidimensional array object, various derived objects (matrices, masked arrays,...) for fast operations on arrays, simulation, etc.\n",
    "import matplotlib.pyplot as plt #It's a collection of functions to createas plotting area in figure, plots some lines in plotting area, decorate the plot... and work like MATLAB\n",
    "from sklearn.datasets import make_circles #Generate isotropic gaussian blobs for clustering\n",
    "plt.style.use('dark_background') # For black background on plot\n",
    "plt.rcParams.update({\n",
    "    \"figure.facecolor\":  (0.12 , 0.12, 0.12, 1),\n",
    "    \"axes.facecolor\": (0.12 , 0.12, 0.12, 1),\n",
    "}) # For a gray dark color \n",
    "from sklearn.metrics import accuracy_score"
   ]
  },
  {
   "cell_type": "markdown",
   "metadata": {},
   "source": [
    "## Initialisation \n",
    "\n",
    "![](Pics/Initialisation.png)"
   ]
  },
  {
   "cell_type": "code",
   "execution_count": 2,
   "metadata": {},
   "outputs": [],
   "source": [
    "def initialisation (n0, n1, n2):\n",
    "\n",
    "    W1 = np.random.randn(n1, n0) \n",
    "    b1 = np.random.randn(n1, 1) \n",
    "    W2 = np.random.randn(n2, n1) \n",
    "    b2 = np.random.randn(n2, 1) \n",
    "\n",
    "    parameters = {#Dictionnary\n",
    "            'W1' : W1,\n",
    "            'b1' : b1,\n",
    "            'W2' : W2,\n",
    "            'b2' : b2\n",
    "    }\n",
    "    return (parameters)\n"
   ]
  },
  {
   "cell_type": "markdown",
   "metadata": {},
   "source": [
    "## Foward propagation\n",
    "\n",
    "![](Pics/FowardPropagation.png)"
   ]
  },
  {
   "cell_type": "code",
   "execution_count": 3,
   "metadata": {},
   "outputs": [],
   "source": [
    "def foward_propagation(X, parameters):\n",
    "    W1 = parameters['W1']\n",
    "    b1 = parameters['b1']\n",
    "    W2 = parameters['W2']\n",
    "    b2 = parameters['b2']\n",
    "\n",
    "    Z1 = W1.dot(X) + b1\n",
    "    A1 = 1 / (1 + np.exp(-Z1))\n",
    "\n",
    "    Z2 = W2.dot(A1) + b2\n",
    "    A2 = 1 / (1 + np.exp(-Z2))\n",
    "\n",
    "    activations = {#Dictionnary\n",
    "        'A1' : A1,\n",
    "        'A2' : A2\n",
    "    }\n",
    "\n",
    "\n",
    "    return activations"
   ]
  },
  {
   "cell_type": "markdown",
   "metadata": {},
   "source": [
    "## Cost function"
   ]
  },
  {
   "cell_type": "code",
   "execution_count": 37,
   "metadata": {},
   "outputs": [],
   "source": [
    "def log_loss(A, y):\n",
    "    epsilon = 1e-15\n",
    "    return 1/len(y) * np.sum(-y * np.log(A + epsilon) - (1-y) * np.log(1 - A + epsilon)) "
   ]
  },
  {
   "cell_type": "markdown",
   "metadata": {},
   "source": [
    "## Back propagation\n",
    "\n",
    "<img src=\"Pics/BackPropagation.png\" width=\"400\" height=\"400\" />"
   ]
  },
  {
   "cell_type": "code",
   "execution_count": 4,
   "metadata": {},
   "outputs": [],
   "source": [
    "def back_propagation(X, y, activations, parameters):\n",
    "\n",
    "    A1 = activations['A1']\n",
    "    A2 = activations['A2']\n",
    "    W2 = parameters['W2']\n",
    "\n",
    "    m = y.shape[1]\n",
    "\n",
    "    dZ2 = A2 - y\n",
    "    dW2 = 1/m * dZ2.dot(A1.T)\n",
    "    db2 = 1 / m * np.sum(dZ2, axis=1, keepdims=True)\n",
    "\n",
    "    dZ1 = np.dot(W2.T, dZ2) * A1 * (1 - A1)\n",
    "    dW1 = 1/m * dZ1.dot(X.T)\n",
    "    db1 = 1 / m * np.sum(dZ1, axis=1, keepdims=True)\n",
    "\n",
    "    gradients = {#Dictionnary\n",
    "        'dW1' : dW1,\n",
    "        'db1' : db1,\n",
    "        'dW2' : dW2,\n",
    "        'db2' : db2\n",
    "    }\n",
    "\n",
    "\n",
    "   \n",
    "    return(gradients)"
   ]
  },
  {
   "cell_type": "markdown",
   "metadata": {},
   "source": [
    "## Update the model\n",
    "\n",
    "![](Pics/Update.png)"
   ]
  },
  {
   "cell_type": "code",
   "execution_count": 7,
   "metadata": {},
   "outputs": [],
   "source": [
    "def update(gradients, parameters, learning_rate):\n",
    "\n",
    "    W1 = parameters['W1']\n",
    "    b1 = parameters['b1']\n",
    "    W2 = parameters['W2']\n",
    "    b2 = parameters['b2']\n",
    "   \n",
    "    dW1 = gradients['dW1']\n",
    "    db1 = gradients['db1']\n",
    "    dW2 = gradients['dW2']\n",
    "    db2 = gradients['db2']\n",
    "\n",
    "\n",
    "    W1 = W1 - learning_rate * dW1\n",
    "    b1 = b1 - learning_rate * db1\n",
    "    W2 = W2 - learning_rate * dW2\n",
    "    b2 = b2 - learning_rate * db2\n",
    "\n",
    "    parameters = {#Dictionnary\n",
    "            'W1' : W1,\n",
    "            'b1' : b1,\n",
    "            'W2' : W2,\n",
    "            'b2' : b2\n",
    "    }\n",
    "    \n",
    "    return(parameters)"
   ]
  },
  {
   "cell_type": "markdown",
   "metadata": {},
   "source": [
    "## Predict function\n",
    "\n",
    "![](Pics/Predict.png)"
   ]
  },
  {
   "cell_type": "code",
   "execution_count": 8,
   "metadata": {},
   "outputs": [],
   "source": [
    "def predict(X, parameters):\n",
    "    activations = foward_propagation(X, parameters)\n",
    "    A2 = activations['A2']\n",
    "    return A2 >= 0.5"
   ]
  },
  {
   "cell_type": "markdown",
   "metadata": {},
   "source": [
    "## Neural network with 2 neurons\n",
    "\n",
    "![](Pics/Model.png)"
   ]
  },
  {
   "cell_type": "code",
   "execution_count": 45,
   "metadata": {},
   "outputs": [],
   "source": [
    "def neural_network(X_train, y_train, n1, learning_rate = 0.1, n_iter = 1000):\n",
    "    \n",
    "    #initiation W, b\n",
    "    n0 = X_train.shape[0]\n",
    "    n2 = y_train.shape[0]\n",
    "    parameters = initialisation(n0, n1, n2)#The initilisation function\n",
    "\n",
    "    \n",
    "    train_Loss = []#Empty list which growth with learning\n",
    "    train_acc = []\n",
    "\n",
    "    for i in range(n_iter):# Learning loop (100 iterations here)\n",
    "        \n",
    "        activations = foward_propagation(X_train, parameters)# Result of Model\n",
    "        gradients = back_propagation(X_train, y_train, activations, parameters)\n",
    "        parameters = update(gradients, parameters, learning_rate)#Update (W,b)\n",
    "\n",
    "        if i %10 == 0:\n",
    "            #Train\n",
    "            train_Loss.append(log_loss(y_train, activations['A2']))\n",
    "            y_pred = predict(X_train, parameters)\n",
    "            current_accuracy = accuracy_score(y_train.flatten(), y_pred.flatten())\n",
    "            train_acc.append(current_accuracy)\n",
    "        \n",
    "        \n",
    "    \n",
    "    plt.figure(figsize=(12, 4))\n",
    "    plt.subplot(1, 2, 1)\n",
    "\n",
    "    plt.plot(train_Loss, label='train loss')\n",
    "    plt.legend()\n",
    "    \n",
    "    plt.subplot(1, 2, 2)\n",
    "    plt.plot(train_acc, label='train acc')\n",
    "    plt.legend()\n",
    "    plt.show()#Display figure\n",
    "\n",
    "    return parameters\n"
   ]
  },
  {
   "cell_type": "markdown",
   "metadata": {},
   "source": [
    "## Make more complex data "
   ]
  },
  {
   "cell_type": "code",
   "execution_count": 25,
   "metadata": {},
   "outputs": [
    {
     "name": "stdout",
     "output_type": "stream",
     "text": [
      "dimension de X: (2, 100)\n",
      "dimension de y: (1, 100)\n"
     ]
    },
    {
     "data": {
      "image/png": "[encoded data removed]",
      "text/plain": [
       "<Figure size 432x288 with 1 Axes>"
      ]
     },
     "metadata": {},
     "output_type": "display_data"
    }
   ],
   "source": [
    "X, y = make_circles (n_samples = 100, noise=0.1, factor=0.3, random_state=0) #Number of points equally divided among clusters ; number of features for each sample ; number of centers to generate ; Determines random number generation for dataset creation\n",
    "X = X.T\n",
    "y = y.reshape((1, y.shape[0])) \n",
    "\n",
    "print('dimension de X:', X.shape)\n",
    "print('dimension de y:', y.shape)\n",
    "\n",
    "plt.scatter(X[0,:], X[1, :], c=y, cmap='summer')\n",
    "plt.show()#Display plot"
   ]
  },
  {
   "cell_type": "markdown",
   "metadata": {},
   "source": [
    "## Train the model"
   ]
  },
  {
   "cell_type": "code",
   "execution_count": 46,
   "metadata": {},
   "outputs": [
    {
     "data": {
      "image/png": "[encoded data removed]",
      "text/plain": [
       "<Figure size 864x288 with 2 Axes>"
      ]
     },
     "metadata": {},
     "output_type": "display_data"
    }
   ],
   "source": [
    "parameters = neural_network(X, y, n1=2, n_iter=1000, learning_rate=0.1)"
   ]
  },
  {
   "cell_type": "markdown",
   "metadata": {},
   "source": [
    "## Result\n",
    "\n",
    "![](Pics/Prediction.png)"
   ]
  }
 ],
 "metadata": {
  "interpreter": {
   "hash": "01a33d69adc33097d0bae5bdbf282579fb884f40eff9531eed4ace90b76278af"
  },
  "kernelspec": {
   "display_name": "Python 3.9.7",
   "language": "python",
   "name": "python3"
  },
  "language_info": {
   "codemirror_mode": {
    "name": "ipython",
    "version": 3
   },
   "file_extension": ".py",
   "mimetype": "text/x-python",
   "name": "python",
   "nbconvert_exporter": "python",
   "pygments_lexer": "ipython3",
   "version": "3.9.7"
  },
  "orig_nbformat": 4
 },
 "nbformat": 4,
 "nbformat_minor": 2
}
