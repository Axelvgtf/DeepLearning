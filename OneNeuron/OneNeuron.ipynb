{
 "cells": [
  {
   "cell_type": "markdown",
   "metadata": {},
   "source": [
    "#One neuron to detect healthy or poison plants\n",
    "Author : NIERDING Axel on 7/5/22\n",
    "It's derived from MachineLearnia formation (big thanks to him)"
   ]
  },
  {
   "cell_type": "code",
   "execution_count": 96,
   "metadata": {},
   "outputs": [],
   "source": [
    "\n",
    "import numpy as np #Numpy provides multidimensional array object, various derived objects (matrices, masked arrays,...) for fast operations on arrays, simulation, etc.\n",
    "import matplotlib.pyplot as plt #It's a collection of functions to createas plotting area in figure, plots some lines in plotting area, decorate the plot... and work like MATLAB\n",
    "from sklearn.datasets import make_blobs #Generate isotropic gaussian blobs for clustering"
   ]
  },
  {
   "cell_type": "markdown",
   "metadata": {},
   "source": [
    "#Generate some data : it's plants seperate by color ; green = healthy ; yellow = poison"
   ]
  },
  {
   "cell_type": "code",
   "execution_count": 97,
   "metadata": {},
   "outputs": [
    {
     "name": "stdout",
     "output_type": "stream",
     "text": [
      "dimension de X: (100, 2)\n",
      "dimension de y: (100, 1)\n"
     ]
    },
    {
     "data": {
      "image/png": "[encoded data removed]",
      "text/plain": [
       "<Figure size 432x288 with 1 Axes>"
      ]
     },
     "metadata": {
      "needs_background": "light"
     },
     "output_type": "display_data"
    }
   ],
   "source": [
    "X, y = make_blobs (n_samples = 100, n_features = 2, centers = 2, random_state=0) #Number of points equally divided among clusters ; number of features for each sample ; number of centers to generate ; Determines random number generation for dataset creation\n",
    "y = y.reshape((y.shape[0], 1)) \n",
    "\n",
    "print('dimension de X:', X.shape)\n",
    "print('dimension de y:', y.shape)\n",
    "\n",
    "plt.scatter(X[:,0], X[:, 1], c=y, cmap='summer')#Scatter plot \n",
    "plt.show()#Display plot"
   ]
  },
  {
   "cell_type": "markdown",
   "metadata": {},
   "source": [
    "#Create one neuron with the same pattern as shown below\n",
    "\n",
    "![](Model.png)"
   ]
  },
  {
   "cell_type": "markdown",
   "metadata": {},
   "source": [
    "#Create the initialisation function"
   ]
  },
  {
   "cell_type": "code",
   "execution_count": 98,
   "metadata": {},
   "outputs": [],
   "source": [
    "def initialisation (X):\n",
    "    W = np.random.randn(X.shape[1], 1) #We shpae X matrix into vector\n",
    "    b = np.random.randn(1) #b is a real number as the model below\n",
    "    return (W , b)"
   ]
  },
  {
   "cell_type": "markdown",
   "metadata": {},
   "source": [
    "![](Xmatrix.png)"
   ]
  },
  {
   "cell_type": "markdown",
   "metadata": {},
   "source": [
    "#Create the model (X, W, b) "
   ]
  },
  {
   "cell_type": "code",
   "execution_count": 99,
   "metadata": {},
   "outputs": [],
   "source": [
    "def model(X, W, b):\n",
    "    Z = X.dot(W) + b\n",
    "    A = 1 / (1 + np.exp(-Z))\n",
    "    return A"
   ]
  },
  {
   "cell_type": "markdown",
   "metadata": {},
   "source": [
    "![](AandZ.png)"
   ]
  },
  {
   "cell_type": "markdown",
   "metadata": {},
   "source": [
    "#Test the model"
   ]
  },
  {
   "cell_type": "code",
   "execution_count": 100,
   "metadata": {},
   "outputs": [
    {
     "data": {
      "text/plain": [
       "(100, 1)"
      ]
     },
     "execution_count": 100,
     "metadata": {},
     "output_type": "execute_result"
    }
   ],
   "source": [
    "A = model(X, W, b)\n",
    "A.shape\n",
    "#It's ok"
   ]
  },
  {
   "cell_type": "markdown",
   "metadata": {},
   "source": [
    "#Create cost function"
   ]
  },
  {
   "cell_type": "code",
   "execution_count": 101,
   "metadata": {},
   "outputs": [],
   "source": [
    "def log_loss(A, y):\n",
    "    return 1/len(y) * np.sum(-y * np.log(A) - (1-y) * np.log(1 - A)) #minus is directly into the sum here (but it's the same as the equation below)"
   ]
  },
  {
   "cell_type": "markdown",
   "metadata": {},
   "source": [
    "![](Cost.png)"
   ]
  },
  {
   "cell_type": "markdown",
   "metadata": {},
   "source": [
    "#Test the cost function "
   ]
  },
  {
   "cell_type": "code",
   "execution_count": 102,
   "metadata": {},
   "outputs": [
    {
     "data": {
      "text/plain": [
       "0.2685254416046395"
      ]
     },
     "execution_count": 102,
     "metadata": {},
     "output_type": "execute_result"
    }
   ],
   "source": [
    "log_loss(A, y)\n",
    "#It's ok"
   ]
  },
  {
   "cell_type": "markdown",
   "metadata": {},
   "source": [
    "#Create gradients function (A, X, y)"
   ]
  },
  {
   "cell_type": "code",
   "execution_count": 103,
   "metadata": {},
   "outputs": [],
   "source": [
    "def gradients(A, X, y):\n",
    "    dW = 1 / len(y) * np.dot(X.T, A - y)\n",
    "    db = 1 / len(y) * np.sum(A - y)\n",
    "    return(dW, db)"
   ]
  },
  {
   "cell_type": "markdown",
   "metadata": {},
   "source": [
    "![](Gradient.png)"
   ]
  },
  {
   "cell_type": "markdown",
   "metadata": {},
   "source": [
    "Test the gradients"
   ]
  },
  {
   "cell_type": "code",
   "execution_count": 104,
   "metadata": {},
   "outputs": [
    {
     "data": {
      "text/plain": [
       "(2, 1)"
      ]
     },
     "execution_count": 104,
     "metadata": {},
     "output_type": "execute_result"
    }
   ],
   "source": [
    "dW, db = gradients(A, X, y)\n",
    "dW.shape\n",
    "#It's ok "
   ]
  },
  {
   "cell_type": "markdown",
   "metadata": {},
   "source": [
    "#Create an update function with Gradients descending and W, b"
   ]
  },
  {
   "cell_type": "code",
   "execution_count": 105,
   "metadata": {},
   "outputs": [],
   "source": [
    "def update(dW, db, W, b, learning_rate):\n",
    "    W = W - learning_rate * dW\n",
    "    b = b - learning_rate * db\n",
    "    return(W, b)"
   ]
  },
  {
   "cell_type": "markdown",
   "metadata": {},
   "source": [
    "![](Update.png)"
   ]
  },
  {
   "cell_type": "markdown",
   "metadata": {},
   "source": [
    "#Define a predict function based on sigmoid model"
   ]
  },
  {
   "cell_type": "code",
   "execution_count": 106,
   "metadata": {},
   "outputs": [],
   "source": [
    "def predict(X, W, b):\n",
    "    A = model(X, W, b)\n",
    "    print(A)\n",
    "    return A >= 0.5 #-> True if above or False (i.e Toxic or Healthy)"
   ]
  },
  {
   "cell_type": "markdown",
   "metadata": {},
   "source": [
    "![](Sigmoid.png)"
   ]
  },
  {
   "cell_type": "code",
   "execution_count": 107,
   "metadata": {},
   "outputs": [],
   "source": [
    "from sklearn.metrics import accuracy_score"
   ]
  },
  {
   "cell_type": "markdown",
   "metadata": {},
   "source": [
    "#Compute the algorithm with all previous functions in One neuron"
   ]
  },
  {
   "cell_type": "code",
   "execution_count": 108,
   "metadata": {},
   "outputs": [],
   "source": [
    "def artificial_neuron(X, y, learning_rate = 0.1, n_iter = 100):\n",
    "    #initiation W, b\n",
    "    W, b = initialisation(X)#The initilisation function\n",
    "\n",
    "    \n",
    "    Loss = []#Empty list which growth with learning\n",
    "\n",
    "    for i in range(n_iter):# Learning loop (100 iterations here)\n",
    "        A = model(X, W, b)# Result of Model\n",
    "        Loss.append(log_loss(A, y))#Cost function\n",
    "        dW, db = gradients(A, X, y)#Descending gradients functions\n",
    "        W, b = update(dW, db, W, b, learning_rate)#Update (W,b)\n",
    "        \n",
    "    y_pred = predict(X, W, b)\n",
    "    print(accuracy_score(y, y_pred))#Print the accuracy to compare y with y pred\n",
    "\n",
    "    plt.plot(Loss)#Plot the list Loss to visualise evolution of cost\n",
    "    plt.show()#Display figure\n",
    "\n",
    "    return (W,b)\n"
   ]
  },
  {
   "cell_type": "markdown",
   "metadata": {},
   "source": [
    "![](ArtificialNeuron.png)"
   ]
  },
  {
   "cell_type": "markdown",
   "metadata": {},
   "source": [
    "#Show the learning curve and accuracy of model"
   ]
  },
  {
   "cell_type": "code",
   "execution_count": 109,
   "metadata": {},
   "outputs": [
    {
     "name": "stdout",
     "output_type": "stream",
     "text": [
      "[[9.81716576e-01]\n",
      " [6.57536120e-01]\n",
      " [4.32139014e-03]\n",
      " [8.96013600e-02]\n",
      " [9.69688460e-01]\n",
      " [3.32931557e-01]\n",
      " [7.01066015e-02]\n",
      " [9.70322057e-01]\n",
      " [4.18919849e-02]\n",
      " [8.02995493e-01]\n",
      " [2.93651781e-02]\n",
      " [8.37435456e-01]\n",
      " [3.15101305e-02]\n",
      " [1.41592113e-02]\n",
      " [6.94292609e-01]\n",
      " [9.90806084e-01]\n",
      " [9.90764115e-01]\n",
      " [2.91463609e-02]\n",
      " [6.03687487e-01]\n",
      " [5.76856412e-01]\n",
      " [4.98435229e-02]\n",
      " [3.38957063e-02]\n",
      " [3.58868874e-01]\n",
      " [4.39508887e-03]\n",
      " [9.48821371e-01]\n",
      " [3.33515858e-02]\n",
      " [8.34943247e-01]\n",
      " [1.12315786e-02]\n",
      " [7.79015009e-02]\n",
      " [7.65743386e-01]\n",
      " [9.72451105e-01]\n",
      " [4.69615160e-02]\n",
      " [5.64727791e-01]\n",
      " [9.73075695e-01]\n",
      " [3.99529355e-01]\n",
      " [2.91996837e-01]\n",
      " [7.16447192e-01]\n",
      " [5.67534741e-01]\n",
      " [5.09633422e-01]\n",
      " [3.35543117e-01]\n",
      " [4.37954794e-02]\n",
      " [1.31202819e-01]\n",
      " [7.33747375e-04]\n",
      " [1.70209614e-01]\n",
      " [1.67055062e-01]\n",
      " [8.36293654e-01]\n",
      " [9.52661023e-01]\n",
      " [9.38248379e-01]\n",
      " [3.28622054e-03]\n",
      " [1.01977496e-02]\n",
      " [9.19999977e-01]\n",
      " [4.44286573e-01]\n",
      " [8.66618864e-02]\n",
      " [4.97065434e-02]\n",
      " [8.74936153e-01]\n",
      " [4.68791322e-02]\n",
      " [7.79675963e-01]\n",
      " [7.80701387e-01]\n",
      " [9.55275277e-01]\n",
      " [9.87957126e-01]\n",
      " [5.94804161e-01]\n",
      " [2.21541397e-01]\n",
      " [4.39032728e-03]\n",
      " [9.31147488e-01]\n",
      " [1.85698107e-02]\n",
      " [3.59634991e-01]\n",
      " [2.65959261e-02]\n",
      " [7.09896154e-01]\n",
      " [9.53333689e-01]\n",
      " [3.02622581e-01]\n",
      " [1.73540785e-01]\n",
      " [8.85549052e-01]\n",
      " [9.80912265e-01]\n",
      " [1.35771537e-01]\n",
      " [7.99213457e-02]\n",
      " [3.09050149e-02]\n",
      " [4.45008222e-01]\n",
      " [8.84613675e-01]\n",
      " [3.96396877e-02]\n",
      " [3.66052229e-02]\n",
      " [2.48673632e-01]\n",
      " [1.00950664e-01]\n",
      " [3.52125870e-03]\n",
      " [1.42345562e-01]\n",
      " [7.60767016e-02]\n",
      " [1.05856736e-02]\n",
      " [9.71884269e-01]\n",
      " [1.09394888e-01]\n",
      " [7.43764118e-01]\n",
      " [9.54106238e-01]\n",
      " [9.14226957e-01]\n",
      " [9.79552037e-01]\n",
      " [3.90790332e-01]\n",
      " [8.70584810e-01]\n",
      " [4.04343909e-01]\n",
      " [6.87197126e-04]\n",
      " [9.55884770e-01]\n",
      " [9.65109276e-01]\n",
      " [6.30333036e-03]\n",
      " [3.40623176e-01]]\n",
      "0.86\n"
     ]
    },
    {
     "data": {
      "image/png": "[encoded data removed]",
      "text/plain": [
       "<Figure size 432x288 with 1 Axes>"
      ]
     },
     "metadata": {
      "needs_background": "light"
     },
     "output_type": "display_data"
    }
   ],
   "source": [
    "W, b = artificial_neuron(X, y)"
   ]
  },
  {
   "cell_type": "markdown",
   "metadata": {},
   "source": [
    "#The model accuracy is 86%"
   ]
  },
  {
   "cell_type": "markdown",
   "metadata": {},
   "source": [
    "Example : "
   ]
  },
  {
   "cell_type": "code",
   "execution_count": 110,
   "metadata": {},
   "outputs": [
    {
     "data": {
      "image/png": "[encoded data removed]",
      "text/plain": [
       "<Figure size 432x288 with 1 Axes>"
      ]
     },
     "metadata": {
      "needs_background": "light"
     },
     "output_type": "display_data"
    },
    {
     "name": "stdout",
     "output_type": "stream",
     "text": [
      "[0.85733932]\n"
     ]
    },
    {
     "data": {
      "text/plain": [
       "array([ True])"
      ]
     },
     "execution_count": 110,
     "metadata": {},
     "output_type": "execute_result"
    }
   ],
   "source": [
    "new_plant = np.array([2, 1])# Choose one plant here 2,1 (toxic)\n",
    "\n",
    "\n",
    "plt.scatter(X[:,0], X[:, 1], c=y, cmap='summer')#Scatter plot of all plants\n",
    "plt.scatter(new_plant[0], new_plant[1], c='r')#The plant choosen in red\n",
    "\n",
    "plt.show()\n",
    "predict(new_plant, W, b)#Test the model"
   ]
  },
  {
   "cell_type": "markdown",
   "metadata": {},
   "source": [
    "#True -> Toxic, so the model is great with ~86% of accuracy\n",
    "#But what is the decision line ? "
   ]
  },
  {
   "cell_type": "markdown",
   "metadata": {},
   "source": [
    "![](Equation.png)"
   ]
  },
  {
   "cell_type": "code",
   "execution_count": 111,
   "metadata": {},
   "outputs": [
    {
     "data": {
      "image/png": "[encoded data removed]",
      "text/plain": [
       "<Figure size 432x288 with 1 Axes>"
      ]
     },
     "metadata": {
      "needs_background": "light"
     },
     "output_type": "display_data"
    },
    {
     "name": "stdout",
     "output_type": "stream",
     "text": [
      "[0.85733932]\n"
     ]
    },
    {
     "data": {
      "text/plain": [
       "array([ True])"
      ]
     },
     "execution_count": 111,
     "metadata": {},
     "output_type": "execute_result"
    }
   ],
   "source": [
    "new_plant = np.array([2, 1])\n",
    "\n",
    "x0 = np.linspace(-1, 4, 100)# -1 to 4 with 100 data\n",
    "x1 = (-W[0] * x0 -b) / W[1]# W[0] is the first value of W\n",
    "\n",
    "plt.scatter(X[:,0], X[:, 1], c=y, cmap='summer')\n",
    "plt.scatter(new_plant[0], new_plant[1], c='r')\n",
    "plt.plot(x0, x1, c='orange', lw=3) #Plot the decision line\n",
    "plt.show()\n",
    "predict(new_plant, W, b)"
   ]
  },
  {
   "cell_type": "markdown",
   "metadata": {},
   "source": [
    "![](Decision.png)"
   ]
  }
 ],
 "metadata": {
  "interpreter": {
   "hash": "01a33d69adc33097d0bae5bdbf282579fb884f40eff9531eed4ace90b76278af"
  },
  "kernelspec": {
   "display_name": "Python 3.9.7 ('base')",
   "language": "python",
   "name": "python3"
  },
  "language_info": {
   "codemirror_mode": {
    "name": "ipython",
    "version": 3
   },
   "file_extension": ".py",
   "mimetype": "text/x-python",
   "name": "python",
   "nbconvert_exporter": "python",
   "pygments_lexer": "ipython3",
   "version": "3.9.7"
  },
  "orig_nbformat": 4
 },
 "nbformat": 4,
 "nbformat_minor": 2
}
