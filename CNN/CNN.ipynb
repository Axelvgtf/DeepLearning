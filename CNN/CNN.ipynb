{
 "cells": [
  {
   "cell_type": "code",
   "execution_count": 43,
   "metadata": {},
   "outputs": [],
   "source": [
    "import numpy as np #Numpy provides multidimensional array object, various derived objects (matrices, masked arrays,...) for fast operations on arrays, simulation, etc.\n",
    "import matplotlib.pyplot as plt #It's a collection of functions to createas plotting area in figure, plots some lines in plotting area, decorate the plot... and work like MATLAB\n",
    "from sklearn.datasets import make_circles #Generate isotropic gaussian blobs for clustering\n",
    "plt.style.use('dark_background')\n",
    "plt.rcParams.update({\n",
    "    \"figure.facecolor\":  (0.12 , 0.12, 0.12, 1),\n",
    "    \"axes.facecolor\": (0.12 , 0.12, 0.12, 1),\n",
    "})\n",
    "from sklearn.metrics import accuracy_score\n",
    "from tqdm import tqdm"
   ]
  },
  {
   "cell_type": "code",
   "execution_count": 18,
   "metadata": {},
   "outputs": [],
   "source": [
    "def initialisation (dimensions):\n",
    "    parameters = {}\n",
    "    C = len(dimensions)\n",
    "\n",
    "    for c in range(1, C):\n",
    "        parameters['W' + str(c)] = np.random.randn(dimensions[c], dimensions[c - 1])\n",
    "        parameters['b' + str(c)] = np.random.randn(dimensions[c], 1)\n",
    "\n",
    "\n",
    "    \n",
    "    return (parameters)"
   ]
  },
  {
   "cell_type": "code",
   "execution_count": 19,
   "metadata": {},
   "outputs": [
    {
     "name": "stdout",
     "output_type": "stream",
     "text": [
      "W1 (32, 2)\n",
      "b1 (32, 1)\n",
      "W2 (32, 32)\n",
      "b2 (32, 1)\n",
      "W3 (1, 32)\n",
      "b3 (1, 1)\n"
     ]
    }
   ],
   "source": [
    "parameters = initialisation([2, 32, 32, 1])\n",
    "\n",
    "for key, val in parameters.items():\n",
    "    print(key, val.shape)"
   ]
  },
  {
   "cell_type": "code",
   "execution_count": 20,
   "metadata": {},
   "outputs": [],
   "source": [
    "def foward_propagation(X, parameters):\n",
    "    \n",
    "    activations = {'A0' : X}\n",
    "\n",
    "    C = len(parameters) // 2\n",
    "\n",
    "    for c in range(1, C + 1):\n",
    "        Z = parameters['W' + str(c)].dot(activations['A' + str(c - 1)]) + parameters['b' + str(c)]\n",
    "        activations['A' + str(c)] = 1 / (1 + np.exp(-Z))\n",
    "\n",
    "\n",
    "    return activations"
   ]
  },
  {
   "cell_type": "code",
   "execution_count": 21,
   "metadata": {},
   "outputs": [],
   "source": [
    "def log_loss(A, y):\n",
    "    epsilon = 1e-15\n",
    "    return 1/len(y) * np.sum(-y * np.log(A + epsilon) - (1-y) * np.log(1 - A + epsilon)) "
   ]
  },
  {
   "cell_type": "code",
   "execution_count": 40,
   "metadata": {},
   "outputs": [],
   "source": [
    "def back_propagation( y, activations, parameters):\n",
    "\n",
    "  m = y.shape[1]\n",
    "  C = len(parameters) // 2\n",
    "\n",
    "  dZ = activations['A' + str(C)] - y\n",
    "  gradients = {}\n",
    "\n",
    "  for c in reversed(range(1, C + 1)):\n",
    "      gradients['dW' + str(c)] = 1 / m * np.dot(dZ, activations['A' + str(c - 1)].T)\n",
    "      gradients['db' + str(c)] = 1 / m * np.sum(dZ, axis=1, keepdims=True)\n",
    "      if c > 1:\n",
    "            dZ = np.dot(parameters['W' + str(c)].T, dZ) * activations['A' + str(c - 1)] * (1 - activations['A' + str(c - 1)])\n",
    "      \n",
    "          \n",
    "   \n",
    "  return gradients"
   ]
  },
  {
   "cell_type": "code",
   "execution_count": 41,
   "metadata": {},
   "outputs": [],
   "source": [
    "def update(gradients, parameters, learning_rate):\n",
    "\n",
    "    C = len(parametres) // 2\n",
    "\n",
    "    for c in range(1, C + 1):\n",
    "        parametres['W' + str(c)] = parametres['W' + str(c)] - learning_rate * gradients['dW' + str(c)]\n",
    "        parametres['b' + str(c)] = parametres['b' + str(c)] - learning_rate * gradients['db' + str(c)]\n",
    "\n",
    "    return parametres"
   ]
  },
  {
   "cell_type": "code",
   "execution_count": 42,
   "metadata": {},
   "outputs": [],
   "source": [
    "def predict(X, parametres):\n",
    "  activations = forward_propagation(X, parametres)\n",
    "  C = len(parametres) // 2\n",
    "  Af = activations['A' + str(C)]\n",
    "  return Af >= 0.5"
   ]
  },
  {
   "cell_type": "code",
   "execution_count": null,
   "metadata": {},
   "outputs": [],
   "source": [
    "def neural_network(X, y, hidden_layers = (32, 32, 32), learning_rate = 0.1, n_iter = 1000):\n",
    "    \n",
    "    np.random.seed(0)\n",
    "    #initialisation W, b\n",
    "    dimensions = list(hidden_layers)\n",
    "    dimensions.insert(O, x.shape[0])\n",
    "    dimensions.append(y.shape[0])\n",
    "    parameters = initialisation(dimensions)#The initilisation function\n",
    "\n",
    "    \n",
    "    train_Loss = []#Empty list which growth with learning\n",
    "    train_acc = []\n",
    "\n",
    "    for i in range(n_iter):# Learning loop (100 iterations here)\n",
    "        \n",
    "        activations = foward_propagation(X, parameters)# Result of Model\n",
    "        gradients = back_propagation(y, activations, parameters)\n",
    "        parameters = update(gradients, parameters, learning_rate)#Update (W,b)\n",
    "\n",
    "        if i %10 == 0:\n",
    "            C = len(parameters) // 2\n",
    "            train_Loss.append(log_loss(y, activations['A2' + str(C)]))\n",
    "            y_pred = predict(X, parameters)\n",
    "            current_accuracy = accuracy_score(y.flatten(), y_pred.flatten())\n",
    "            train_acc.append(current_accuracy)\n",
    "        \n",
    "        \n",
    "    \n",
    "    \n",
    "    fig, ax= plt.subplot(nrows =1, ncols=3, figsize=(18, 4))\n",
    "    ax[0].plot(train_Loss, label='train loss')\n",
    "    ax[0].legend()\n",
    "    \n",
    "    ax[1].plot(train_Loss, label='train acc')\n",
    "    ax[1].legend()\n",
    "    visualisation(X, y, parameters, ax)\n",
    "    plt.show()#Display figure\n",
    "\n",
    "    return parameters"
   ]
  }
 ],
 "metadata": {
  "interpreter": {
   "hash": "01a33d69adc33097d0bae5bdbf282579fb884f40eff9531eed4ace90b76278af"
  },
  "kernelspec": {
   "display_name": "Python 3.9.7 ('base')",
   "language": "python",
   "name": "python3"
  },
  "language_info": {
   "codemirror_mode": {
    "name": "ipython",
    "version": 3
   },
   "file_extension": ".py",
   "mimetype": "text/x-python",
   "name": "python",
   "nbconvert_exporter": "python",
   "pygments_lexer": "ipython3",
   "version": "3.9.7"
  },
  "orig_nbformat": 4
 },
 "nbformat": 4,
 "nbformat_minor": 2
}
